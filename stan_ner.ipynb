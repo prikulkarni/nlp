{
 "cells": [
  {
   "cell_type": "markdown",
   "metadata": {},
   "source": [
    "standard ner"
   ]
  },
  {
   "cell_type": "code",
   "execution_count": 1,
   "metadata": {},
   "outputs": [
    {
     "name": "stdout",
     "output_type": "stream",
     "text": [
      "[('Emma', 'PERSON'), ('Woodhouse', 'PERSON'), (',', 'O'), ('handsome', 'O'), (',', 'O'), ('clever', 'O'), (',', 'O'), ('and', 'O'), ('rich', 'O'), (',', 'O'), ('with', 'O'), ('a', 'O'), ('comfortable', 'O'), ('home', 'O'), ('and', 'O'), ('happy', 'O'), ('disposition', 'O'), (',', 'O'), ('seemed', 'O'), ('to', 'O'), ('unite', 'O'), ('some', 'O'), ('of', 'O'), ('the', 'O'), ('best', 'O'), ('blessings', 'O'), ('of', 'O'), ('existence', 'O'), (';', 'O'), ('and', 'O'), ('had', 'O'), ('lived', 'O'), ('nearly', 'O'), ('twenty-one', 'O'), ('years', 'O'), ('in', 'O'), ('the', 'O'), ('world', 'O'), ('with', 'O'), ('very', 'O'), ('little', 'O'), ('to', 'O'), ('distress', 'O'), ('or', 'O'), ('vex', 'O'), ('her', 'O'), ('.', 'O'), ('She', 'O'), ('was', 'O'), ('the', 'O'), ('youngest', 'O'), ('of', 'O'), ('the', 'O'), ('two', 'O'), ('daughters', 'O'), ('of', 'O'), ('a', 'O'), ('most', 'O'), ('affectionate', 'O'), (',', 'O'), ('indulgent', 'O'), ('father', 'O'), (';', 'O'), ('and', 'O'), ('had', 'O'), (',', 'O'), ('in', 'O'), ('consequence', 'O'), ('of', 'O'), ('her', 'O'), ('sister', 'O'), (\"'s\", 'O'), ('marriage', 'O'), (',', 'O'), ('been', 'O'), ('mistress', 'O'), ('of', 'O'), ('his', 'O'), ('house', 'O'), ('from', 'O'), ('a', 'O'), ('very', 'O'), ('early', 'O'), ('period', 'O'), ('.', 'O'), ('Her', 'O'), ('mother', 'O'), ('had', 'O'), ('died', 'O'), ('too', 'O'), ('long', 'O'), ('ago', 'O'), ('for', 'O'), ('her', 'O'), ('to', 'O'), ('have', 'O'), ('more', 'O'), ('than', 'O'), ('an', 'O'), ('indistinct', 'O'), ('remembrance', 'O'), ('of', 'O'), ('her', 'O'), ('caresses', 'O'), (';', 'O'), ('and', 'O'), ('her', 'O'), ('place', 'O'), ('had', 'O'), ('been', 'O'), ('supplied', 'O'), ('by', 'O'), ('an', 'O'), ('excellent', 'O'), ('woman', 'O'), ('as', 'O'), ('governess', 'O'), (',', 'O'), ('who', 'O'), ('had', 'O'), ('fallen', 'O'), ('little', 'O'), ('short', 'O'), ('of', 'O'), ('a', 'O'), ('mother', 'O'), ('in', 'O'), ('affection', 'O'), ('.', 'O')]\n"
     ]
    }
   ],
   "source": [
    "import nltk\n",
    "from nltk.tag.stanford import StanfordNERTagger\n",
    "from nltk.corpus import gutenberg\n",
    "\n",
    "# sentence = u\"Twenty miles east of Reno, Nev., \" \\\n",
    "#     \"where packs of wild mustangs roam free through \" \\\n",
    "#     \"the parched landscape, Tesla Gigafactory 1 \" \\\n",
    "#     \"sprawls near Interstate 80.\"\n",
    "\n",
    "sample_text = gutenberg.raw(\"sample_text.txt\")\n",
    "\n",
    "jar = './stanford-ner-tagger/stanford-ner.jar'\n",
    "model = './stanford-ner-tagger/ner-model-english-3.ser.gz'\n",
    "\n",
    "# Prepare NER tagger with english model\n",
    "ner_tagger = StanfordNERTagger(model, jar, encoding='utf8')\n",
    "\n",
    "# Tokenize: Split sentence into words\n",
    "#words = nltk.word_tokenize(sentence)\n",
    "words = nltk.word_tokenize(sample_text)\n",
    "\n",
    "# Run NER tagger on words\n",
    "print(ner_tagger.tag(words))"
   ]
  },
  {
   "cell_type": "markdown",
   "metadata": {},
   "source": [
    "customised ner"
   ]
  },
  {
   "cell_type": "code",
   "execution_count": 5,
   "metadata": {},
   "outputs": [
    {
     "name": "stdout",
     "output_type": "stream",
     "text": [
      "[('Emma', 'NAME'), ('Woodhouse', 'NAME'), (',', 'O'), ('handsome', 'O'), (',', 'O'), ('clever', 'O'), (',', 'O'), ('and', 'O'), ('rich', 'O'), (',', 'O'), ('with', 'O'), ('a', 'O'), ('comfortable', 'EMOTION'), ('home', 'PLACE'), ('and', 'EMOTION'), ('happy', 'EMOTION'), ('disposition', 'O'), (',', 'O'), ('seemed', 'O'), ('to', 'O'), ('unite', 'O'), ('some', 'O'), ('of', 'O'), ('the', 'O'), ('best', 'O'), ('blessings', 'O'), ('of', 'O'), ('existence', 'O'), (';', 'O'), ('and', 'O'), ('had', 'O'), ('lived', 'O'), ('nearly', 'O'), ('twenty-one', 'O'), ('years', 'O'), ('in', 'O'), ('the', 'O'), ('world', 'O'), ('with', 'O'), ('very', 'O'), ('little', 'O'), ('to', 'O'), ('distress', 'O'), ('or', 'O'), ('vex', 'O'), ('her', 'O'), ('.', 'O'), ('She', 'O'), ('was', 'O'), ('the', 'O'), ('youngest', 'O'), ('of', 'O'), ('the', 'O'), ('two', 'O'), ('daughters', 'O'), ('of', 'O'), ('a', 'O'), ('most', 'O'), ('affectionate', 'O'), (',', 'O'), ('indulgent', 'O'), ('father', 'O'), (';', 'O'), ('and', 'O'), ('had', 'O'), (',', 'O'), ('in', 'O'), ('consequence', 'O'), ('of', 'O'), ('her', 'O'), ('sister', 'O'), (\"'s\", 'O'), ('marriage', 'O'), (',', 'O'), ('been', 'O'), ('mistress', 'O'), ('of', 'O'), ('his', 'O'), ('house', 'O'), ('from', 'O'), ('a', 'O'), ('very', 'O'), ('early', 'O'), ('period', 'O'), ('.', 'O'), ('Her', 'O'), ('mother', 'O'), ('had', 'O'), ('died', 'O'), ('too', 'O'), ('long', 'O'), ('ago', 'O'), ('for', 'O'), ('her', 'O'), ('to', 'O'), ('have', 'O'), ('more', 'O'), ('than', 'O'), ('an', 'O'), ('indistinct', 'O'), ('remembrance', 'O'), ('of', 'O'), ('her', 'O'), ('caresses', 'O'), (';', 'O'), ('and', 'O'), ('her', 'O'), ('place', 'O'), ('had', 'O'), ('been', 'O'), ('supplied', 'O'), ('by', 'O'), ('an', 'O'), ('excellent', 'O'), ('woman', 'O'), ('as', 'O'), ('governess', 'O'), (',', 'O'), ('who', 'O'), ('had', 'O'), ('fallen', 'O'), ('little', 'O'), ('short', 'O'), ('of', 'O'), ('a', 'O'), ('mother', 'O'), ('in', 'O'), ('affection', 'O'), ('.', 'O')]\n"
     ]
    }
   ],
   "source": [
    "import nltk\n",
    "from nltk.tag.stanford import StanfordNERTagger\n",
    "from nltk.corpus import gutenberg\n",
    "\n",
    "sample_text = gutenberg.raw(\"sample_text.txt\")\n",
    "\n",
    "jar = './stanford-ner-tagger/stanford-ner.jar'\n",
    "model = './stanford-ner-tagger/dummy-ner-model.ser.gz'\n",
    "\n",
    "# Prepare NER tagger with english model\n",
    "ner_tagger = StanfordNERTagger(model, jar, encoding='utf8')\n",
    "\n",
    "# Tokenize: Split sentence into words\n",
    "#words = nltk.word_tokenize(sentence)\n",
    "words = nltk.word_tokenize(sample_text)\n",
    "\n",
    "# Run NER tagger on words\n",
    "print(ner_tagger.tag(words))"
   ]
  },
  {
   "cell_type": "code",
   "execution_count": null,
   "metadata": {},
   "outputs": [],
   "source": []
  }
 ],
 "metadata": {
  "kernelspec": {
   "display_name": "Python 3",
   "language": "python",
   "name": "python3"
  },
  "language_info": {
   "codemirror_mode": {
    "name": "ipython",
    "version": 3
   },
   "file_extension": ".py",
   "mimetype": "text/x-python",
   "name": "python",
   "nbconvert_exporter": "python",
   "pygments_lexer": "ipython3",
   "version": "3.6.6"
  }
 },
 "nbformat": 4,
 "nbformat_minor": 2
}
